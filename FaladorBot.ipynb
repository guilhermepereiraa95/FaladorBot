{
 "cells": [
  {
   "cell_type": "code",
   "execution_count": null,
   "id": "4896a7a5",
   "metadata": {},
   "outputs": [],
   "source": [
    "import telebot\n",
    "\n",
    "API_KEY = \"SUA_API_AQUI\"\n",
    "\n",
    "bot = telebot.TeleBot(API_KEY)\n",
    "\n",
    "@bot.message_handler(commands=[\"pizza\"])\n",
    "def pizza(mensagem):\n",
    "    bot.send_message(mensagem.chat.id, 'Saindo aquela diretamente da Itália')\n",
    "    \n",
    "@bot.message_handler(commands=[\"hamburguer\"])\n",
    "def hamburguer(mensagem):\n",
    "    bot.send_message(mensagem.chat.id, 'Seu podrão está saindo daqui 20 minutos')\n",
    "    \n",
    "@bot.message_handler(commands=[\"salada\"])\n",
    "def salada(mensagem):\n",
    "    bot.send_message(mensagem.chat.id, 'Daqui a alguns minutos sua salada estará pronta')\n",
    "\n",
    "\n",
    "@bot.message_handler(commands=[\"opcao1\"])\n",
    "def opcao1(mensagem):\n",
    "    texto = \"\"\"\n",
    "Maravilha! Escolha o que deseja pedir:\n",
    "/pizza = Pizza de frango com catupiry\n",
    "/hamburguer = X-Salada\n",
    "/salada = Mix de frutas e verduras\n",
    "    \"\"\"\n",
    "    bot.send_message(mensagem.chat.id, texto)\n",
    "    \n",
    "\n",
    "@bot.message_handler(commands=[\"opcao2\"])\n",
    "def opcao2(mensagem):\n",
    "    bot.reply_to(mensagem, 'Para fazer uma reclamação, mande um e-mail para reclamacao@naoligo.com.br')\n",
    "    \n",
    "@bot.message_handler(commands=[\"opcao3\"])\n",
    "def opcao3(mensagem):\n",
    "    bot.send_message(mensagem.chat.id, 'Desculpe, eu não tenho braços... Mas sinta-se abraçado!')\n",
    "\n",
    "def verificar(mensagem):\n",
    "    return True\n",
    "\n",
    "@bot.message_handler(func=verificar)\n",
    "def responder(mensagem):\n",
    "    texto = \"\"\"\n",
    "Olá! Sou o FaladorBot, clique na opção que desejar!\n",
    "/opcao1 = Desejo fazer um pedido!\n",
    "/opcao2 = Desejo fazer uma reclamação.\n",
    "/opcao3 = Queria um abraço...\n",
    "    \"\"\"\n",
    "    bot.reply_to(mensagem, texto)\n",
    "\n",
    "bot.polling()"
   ]
  },
  {
   "cell_type": "code",
   "execution_count": null,
   "id": "db8ed198",
   "metadata": {},
   "outputs": [],
   "source": []
  }
 ],
 "metadata": {
  "kernelspec": {
   "display_name": "Python 3",
   "language": "python",
   "name": "python3"
  },
  "language_info": {
   "codemirror_mode": {
    "name": "ipython",
    "version": 3
   },
   "file_extension": ".py",
   "mimetype": "text/x-python",
   "name": "python",
   "nbconvert_exporter": "python",
   "pygments_lexer": "ipython3",
   "version": "3.8.8"
  }
 },
 "nbformat": 4,
 "nbformat_minor": 5
}
