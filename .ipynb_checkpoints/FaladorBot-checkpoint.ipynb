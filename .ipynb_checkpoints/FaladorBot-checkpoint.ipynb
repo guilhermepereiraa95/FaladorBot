{
 "cells": [
  {
   "cell_type": "code",
   "execution_count": null,
   "id": "819e4227",
   "metadata": {},
   "outputs": [],
   "source": [
    "import telebot\n",
    "\n",
    "API_KEY = \"1982309117:AAErHIepXBuwTwBFBiQxzyPPh2fDR91MZao\"\n",
    "\n",
    "bot = telebot.TeleBot(API_KEY)\n",
    "\n",
    "def verificar(mensagem):\n",
    "    return True\n",
    "\n",
    "@bot.message_handler(func=verificar)\n",
    "def responder(mensagem):\n",
    "    bot.reply_to(mensagem, 'Olá, sou o FaladorBot!')\n",
    "\n",
    "bot.polling()"
   ]
  },
  {
   "cell_type": "code",
   "execution_count": null,
   "id": "f3aed086",
   "metadata": {},
   "outputs": [],
   "source": []
  },
  {
   "cell_type": "code",
   "execution_count": null,
   "id": "f5008323",
   "metadata": {},
   "outputs": [],
   "source": []
  }
 ],
 "metadata": {
  "kernelspec": {
   "display_name": "Python 3",
   "language": "python",
   "name": "python3"
  },
  "language_info": {
   "codemirror_mode": {
    "name": "ipython",
    "version": 3
   },
   "file_extension": ".py",
   "mimetype": "text/x-python",
   "name": "python",
   "nbconvert_exporter": "python",
   "pygments_lexer": "ipython3",
   "version": "3.8.8"
  }
 },
 "nbformat": 4,
 "nbformat_minor": 5
}
